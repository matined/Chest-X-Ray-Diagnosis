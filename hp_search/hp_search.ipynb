{
 "cells": [
  {
   "cell_type": "markdown",
   "metadata": {},
   "source": [
    "### imports"
   ]
  },
  {
   "cell_type": "code",
   "execution_count": 2,
   "metadata": {},
   "outputs": [],
   "source": [
    "import sys\n",
    "\n",
    "import tensorflow as tf\n",
    "from tensorflow.keras.preprocessing.image import ImageDataGenerator\n",
    "from tensorboard.plugins.hparams import api as hp\n",
    "from PIL import Image\n",
    "from collections.abc import Mapping\n",
    "\n",
    "import sklearn\n",
    "\n",
    "sys.path.append('../')\n",
    "import models\n"
   ]
  },
  {
   "cell_type": "markdown",
   "metadata": {},
   "source": [
    "### Generators for loading and augmenting images"
   ]
  },
  {
   "cell_type": "code",
   "execution_count": 3,
   "metadata": {},
   "outputs": [
    {
     "name": "stdout",
     "output_type": "stream",
     "text": [
      "Found 5144 images belonging to 3 classes.\n",
      "Found 1288 images belonging to 3 classes.\n"
     ]
    }
   ],
   "source": [
    "# train_datagen = ImageDataGenerator(rescale=1./255,\n",
    "#                                      shear_range=0.1,\n",
    "#                                      zoom_range=0.1,\n",
    "#                                      rotation_range=5,\n",
    "#                                      width_shift_range=0.1,\n",
    "#                                      height_shift_range=0.1,\n",
    "#                                      fill_mode='nearest')\n",
    "train_datagen = ImageDataGenerator(rescale=1./255)\n",
    "\n",
    "test_datagen = ImageDataGenerator(rescale=1./255)\n",
    "\n",
    "train_generator = train_datagen.flow_from_directory('../data/train',\n",
    "                                                    target_size=(150, 150),\n",
    "                                                    batch_size=32,\n",
    "                                                    class_mode='categorical')\n",
    "test_generator = test_datagen.flow_from_directory('../data/test',\n",
    "                                                  target_size=(150, 150),\n",
    "                                                  batch_size=32,\n",
    "                                                  class_mode='categorical')\n",
    "                                            "
   ]
  },
  {
   "cell_type": "markdown",
   "metadata": {},
   "source": [
    "### Setup for experiment"
   ]
  },
  {
   "cell_type": "code",
   "execution_count": 4,
   "metadata": {},
   "outputs": [
    {
     "name": "stderr",
     "output_type": "stream",
     "text": [
      "2022-03-31 10:06:00.858108: I tensorflow/compiler/jit/xla_cpu_device.cc:41] Not creating XLA devices, tf_xla_enable_xla_devices not set\n",
      "2022-03-31 10:06:00.859264: I tensorflow/core/platform/cpu_feature_guard.cc:142] This TensorFlow binary is optimized with oneAPI Deep Neural Network Library (oneDNN) to use the following CPU instructions in performance-critical operations:  SSE4.1 SSE4.2 AVX AVX2 FMA\n",
      "To enable them in other operations, rebuild TensorFlow with the appropriate compiler flags.\n",
      "2022-03-31 10:06:00.861461: I tensorflow/core/common_runtime/process_util.cc:146] Creating new thread pool with default inter op setting: 2. Tune using inter_op_parallelism_threads for best performance.\n"
     ]
    }
   ],
   "source": [
    "HP_NUM_FREEZED = hp.HParam('num_freezed', hp.Discrete([3, 5]))\n",
    "HP_OPTIMIZER = hp.HParam('optimizer', hp.Discrete(['adam', 'RMSprop']))\n",
    "\n",
    "METRIC_ACCURACY = 'accuracy'\n",
    "\n",
    "with tf.summary.create_file_writer('logs/hparam_tuning').as_default():\n",
    "  hp.hparams_config(\n",
    "    hparams=[HP_NUM_FREEZED, HP_OPTIMIZER],\n",
    "    metrics=[hp.Metric(METRIC_ACCURACY, display_name='Accuracy')],\n",
    "  )"
   ]
  },
  {
   "cell_type": "markdown",
   "metadata": {},
   "source": [
    "### Training function"
   ]
  },
  {
   "cell_type": "code",
   "execution_count": 5,
   "metadata": {},
   "outputs": [],
   "source": [
    "def train_test_model(hparams, tf_callback):\n",
    "    model = models.XrayModelEfficient(hparams[HP_NUM_FREEZED])\n",
    "    model.compile(loss=tf.keras.losses.CategoricalCrossentropy(),\n",
    "                  optimizer=hparams[HP_OPTIMIZER],\n",
    "                  metrics='accuracy')\n",
    "\n",
    "    model.fit(train_generator,\n",
    "              steps_per_epoch=100,\n",
    "              epochs=1,\n",
    "              callbacks=[tf_callback])\n",
    "    \n",
    "    _, accuracy = model.evaluate(test_generator)\n",
    "    return accuracy"
   ]
  },
  {
   "cell_type": "markdown",
   "metadata": {},
   "source": [
    "### Clear logs"
   ]
  },
  {
   "cell_type": "code",
   "execution_count": 6,
   "metadata": {},
   "outputs": [],
   "source": [
    "%rm -rf ./logs/"
   ]
  },
  {
   "cell_type": "markdown",
   "metadata": {},
   "source": [
    "### Run experiments"
   ]
  },
  {
   "cell_type": "code",
   "execution_count": 7,
   "metadata": {},
   "outputs": [],
   "source": [
    "def run(run_dir, hparams, tf_callback):\n",
    "  with tf.summary.create_file_writer(run_dir).as_default():\n",
    "    hp.hparams(hparams)  # record the values used in this trial\n",
    "    accuracy = train_test_model(hparams, tf_callback)\n",
    "    tf.summary.scalar(METRIC_ACCURACY, accuracy, step=1)"
   ]
  },
  {
   "cell_type": "code",
   "execution_count": 8,
   "metadata": {},
   "outputs": [
    {
     "name": "stderr",
     "output_type": "stream",
     "text": [
      "2022-03-31 10:06:11.136666: I tensorflow/core/profiler/lib/profiler_session.cc:136] Profiler session initializing.\n",
      "2022-03-31 10:06:11.136703: I tensorflow/core/profiler/lib/profiler_session.cc:155] Profiler session started.\n",
      "2022-03-31 10:06:11.137842: I tensorflow/core/profiler/lib/profiler_session.cc:172] Profiler session tear down.\n"
     ]
    },
    {
     "name": "stdout",
     "output_type": "stream",
     "text": [
      "--- Starting trial: run-0\n",
      "{'num_freezed': 3, 'optimizer': 'RMSprop'}\n"
     ]
    },
    {
     "name": "stderr",
     "output_type": "stream",
     "text": [
      "2022-03-31 10:06:15.838323: I tensorflow/compiler/mlir/mlir_graph_optimization_pass.cc:116] None of the MLIR optimization passes are enabled (registered 2)\n",
      "2022-03-31 10:06:15.854821: I tensorflow/core/platform/profile_utils/cpu_utils.cc:112] CPU Frequency: 2801090000 Hz\n"
     ]
    },
    {
     "name": "stdout",
     "output_type": "stream",
     "text": [
      "  1/100 [..............................] - ETA: 20:53 - loss: 1.0658 - accuracy: 0.4688"
     ]
    },
    {
     "name": "stderr",
     "output_type": "stream",
     "text": [
      "2022-03-31 10:06:28.930511: I tensorflow/core/profiler/lib/profiler_session.cc:136] Profiler session initializing.\n",
      "2022-03-31 10:06:28.930537: I tensorflow/core/profiler/lib/profiler_session.cc:155] Profiler session started.\n"
     ]
    },
    {
     "name": "stdout",
     "output_type": "stream",
     "text": [
      "  2/100 [..............................] - ETA: 3:38 - loss: 1.4395 - accuracy: 0.5000 "
     ]
    },
    {
     "name": "stderr",
     "output_type": "stream",
     "text": [
      "2022-03-31 10:06:30.771030: I tensorflow/core/profiler/lib/profiler_session.cc:71] Profiler session collecting data.\n",
      "2022-03-31 10:06:30.830746: I tensorflow/core/profiler/lib/profiler_session.cc:172] Profiler session tear down.\n",
      "2022-03-31 10:06:30.865225: I tensorflow/core/profiler/rpc/client/save_profile.cc:137] Creating directory: logs/fit/run-0/train/plugins/profile/2022_03_31_10_06_30\n",
      "2022-03-31 10:06:30.896876: I tensorflow/core/profiler/rpc/client/save_profile.cc:143] Dumped gzipped tool data for trace.json.gz to logs/fit/run-0/train/plugins/profile/2022_03_31_10_06_30/matined-asus.trace.json.gz\n",
      "2022-03-31 10:06:30.975697: I tensorflow/core/profiler/rpc/client/save_profile.cc:137] Creating directory: logs/fit/run-0/train/plugins/profile/2022_03_31_10_06_30\n",
      "2022-03-31 10:06:30.981105: I tensorflow/core/profiler/rpc/client/save_profile.cc:143] Dumped gzipped tool data for memory_profile.json.gz to logs/fit/run-0/train/plugins/profile/2022_03_31_10_06_30/matined-asus.memory_profile.json.gz\n",
      "2022-03-31 10:06:30.982205: I tensorflow/core/profiler/rpc/client/capture_profile.cc:251] Creating directory: logs/fit/run-0/train/plugins/profile/2022_03_31_10_06_30Dumped tool data for xplane.pb to logs/fit/run-0/train/plugins/profile/2022_03_31_10_06_30/matined-asus.xplane.pb\n",
      "Dumped tool data for overview_page.pb to logs/fit/run-0/train/plugins/profile/2022_03_31_10_06_30/matined-asus.overview_page.pb\n",
      "Dumped tool data for input_pipeline.pb to logs/fit/run-0/train/plugins/profile/2022_03_31_10_06_30/matined-asus.input_pipeline.pb\n",
      "Dumped tool data for tensorflow_stats.pb to logs/fit/run-0/train/plugins/profile/2022_03_31_10_06_30/matined-asus.tensorflow_stats.pb\n",
      "Dumped tool data for kernel_stats.pb to logs/fit/run-0/train/plugins/profile/2022_03_31_10_06_30/matined-asus.kernel_stats.pb\n",
      "\n"
     ]
    },
    {
     "name": "stdout",
     "output_type": "stream",
     "text": [
      "100/100 [==============================] - 232s 2s/step - loss: 1.0135 - accuracy: 0.6023\n",
      "41/41 [==============================] - 108s 3s/step - loss: 0.8826 - accuracy: 0.6638\n",
      "--- Starting trial: run-1\n",
      "{'num_freezed': 3, 'optimizer': 'adam'}\n",
      "  1/100 [..............................] - ETA: 21:00 - loss: 0.9750 - accuracy: 0.6562"
     ]
    },
    {
     "name": "stderr",
     "output_type": "stream",
     "text": [
      "2022-03-31 10:12:14.466619: I tensorflow/core/profiler/lib/profiler_session.cc:136] Profiler session initializing.\n",
      "2022-03-31 10:12:14.466648: I tensorflow/core/profiler/lib/profiler_session.cc:155] Profiler session started.\n"
     ]
    },
    {
     "name": "stdout",
     "output_type": "stream",
     "text": [
      "  2/100 [..............................] - ETA: 4:53 - loss: 0.8912 - accuracy: 0.6719 "
     ]
    },
    {
     "name": "stderr",
     "output_type": "stream",
     "text": [
      "2022-03-31 10:12:17.743215: I tensorflow/core/profiler/lib/profiler_session.cc:71] Profiler session collecting data.\n",
      "2022-03-31 10:12:17.769220: I tensorflow/core/profiler/lib/profiler_session.cc:172] Profiler session tear down.\n",
      "2022-03-31 10:12:17.786588: I tensorflow/core/profiler/rpc/client/save_profile.cc:137] Creating directory: logs/fit/run-0/train/plugins/profile/2022_03_31_10_12_17\n",
      "2022-03-31 10:12:17.795106: I tensorflow/core/profiler/rpc/client/save_profile.cc:143] Dumped gzipped tool data for trace.json.gz to logs/fit/run-0/train/plugins/profile/2022_03_31_10_12_17/matined-asus.trace.json.gz\n",
      "2022-03-31 10:12:17.852132: I tensorflow/core/profiler/rpc/client/save_profile.cc:137] Creating directory: logs/fit/run-0/train/plugins/profile/2022_03_31_10_12_17\n",
      "2022-03-31 10:12:17.860103: I tensorflow/core/profiler/rpc/client/save_profile.cc:143] Dumped gzipped tool data for memory_profile.json.gz to logs/fit/run-0/train/plugins/profile/2022_03_31_10_12_17/matined-asus.memory_profile.json.gz\n",
      "2022-03-31 10:12:17.861948: I tensorflow/core/profiler/rpc/client/capture_profile.cc:251] Creating directory: logs/fit/run-0/train/plugins/profile/2022_03_31_10_12_17Dumped tool data for xplane.pb to logs/fit/run-0/train/plugins/profile/2022_03_31_10_12_17/matined-asus.xplane.pb\n",
      "Dumped tool data for overview_page.pb to logs/fit/run-0/train/plugins/profile/2022_03_31_10_12_17/matined-asus.overview_page.pb\n",
      "Dumped tool data for input_pipeline.pb to logs/fit/run-0/train/plugins/profile/2022_03_31_10_12_17/matined-asus.input_pipeline.pb\n",
      "Dumped tool data for tensorflow_stats.pb to logs/fit/run-0/train/plugins/profile/2022_03_31_10_12_17/matined-asus.tensorflow_stats.pb\n",
      "Dumped tool data for kernel_stats.pb to logs/fit/run-0/train/plugins/profile/2022_03_31_10_12_17/matined-asus.kernel_stats.pb\n",
      "\n"
     ]
    },
    {
     "name": "stdout",
     "output_type": "stream",
     "text": [
      "100/100 [==============================] - 264s 3s/step - loss: 0.9039 - accuracy: 0.6567\n",
      "41/41 [==============================] - 93s 2s/step - loss: 0.8703 - accuracy: 0.6638\n",
      "--- Starting trial: run-2\n",
      "{'num_freezed': 5, 'optimizer': 'RMSprop'}\n",
      "  1/100 [..............................] - ETA: 20:49 - loss: 1.1515 - accuracy: 0.1562"
     ]
    },
    {
     "name": "stderr",
     "output_type": "stream",
     "text": [
      "2022-03-31 10:18:17.328989: I tensorflow/core/profiler/lib/profiler_session.cc:136] Profiler session initializing.\n",
      "2022-03-31 10:18:17.329013: I tensorflow/core/profiler/lib/profiler_session.cc:155] Profiler session started.\n"
     ]
    },
    {
     "name": "stdout",
     "output_type": "stream",
     "text": [
      "  2/100 [..............................] - ETA: 3:34 - loss: 1.4691 - accuracy: 0.2656 "
     ]
    },
    {
     "name": "stderr",
     "output_type": "stream",
     "text": [
      "2022-03-31 10:18:19.763154: I tensorflow/core/profiler/lib/profiler_session.cc:71] Profiler session collecting data.\n",
      "2022-03-31 10:18:19.796664: I tensorflow/core/profiler/lib/profiler_session.cc:172] Profiler session tear down.\n",
      "2022-03-31 10:18:19.815225: I tensorflow/core/profiler/rpc/client/save_profile.cc:137] Creating directory: logs/fit/run-0/train/plugins/profile/2022_03_31_10_18_19\n",
      "2022-03-31 10:18:19.823836: I tensorflow/core/profiler/rpc/client/save_profile.cc:143] Dumped gzipped tool data for trace.json.gz to logs/fit/run-0/train/plugins/profile/2022_03_31_10_18_19/matined-asus.trace.json.gz\n",
      "2022-03-31 10:18:19.883726: I tensorflow/core/profiler/rpc/client/save_profile.cc:137] Creating directory: logs/fit/run-0/train/plugins/profile/2022_03_31_10_18_19\n",
      "2022-03-31 10:18:19.891792: I tensorflow/core/profiler/rpc/client/save_profile.cc:143] Dumped gzipped tool data for memory_profile.json.gz to logs/fit/run-0/train/plugins/profile/2022_03_31_10_18_19/matined-asus.memory_profile.json.gz\n",
      "2022-03-31 10:18:19.893489: I tensorflow/core/profiler/rpc/client/capture_profile.cc:251] Creating directory: logs/fit/run-0/train/plugins/profile/2022_03_31_10_18_19Dumped tool data for xplane.pb to logs/fit/run-0/train/plugins/profile/2022_03_31_10_18_19/matined-asus.xplane.pb\n",
      "Dumped tool data for overview_page.pb to logs/fit/run-0/train/plugins/profile/2022_03_31_10_18_19/matined-asus.overview_page.pb\n",
      "Dumped tool data for input_pipeline.pb to logs/fit/run-0/train/plugins/profile/2022_03_31_10_18_19/matined-asus.input_pipeline.pb\n",
      "Dumped tool data for tensorflow_stats.pb to logs/fit/run-0/train/plugins/profile/2022_03_31_10_18_19/matined-asus.tensorflow_stats.pb\n",
      "Dumped tool data for kernel_stats.pb to logs/fit/run-0/train/plugins/profile/2022_03_31_10_18_19/matined-asus.kernel_stats.pb\n",
      "\n"
     ]
    },
    {
     "name": "stdout",
     "output_type": "stream",
     "text": [
      "100/100 [==============================] - 268s 3s/step - loss: 1.0556 - accuracy: 0.5648\n",
      "41/41 [==============================] - 93s 2s/step - loss: 0.9298 - accuracy: 0.6638\n",
      "--- Starting trial: run-3\n",
      "{'num_freezed': 5, 'optimizer': 'adam'}\n",
      "  1/100 [..............................] - ETA: 21:21 - loss: 1.1144 - accuracy: 0.4375"
     ]
    },
    {
     "name": "stderr",
     "output_type": "stream",
     "text": [
      "2022-03-31 10:24:24.384949: I tensorflow/core/profiler/lib/profiler_session.cc:136] Profiler session initializing.\n",
      "2022-03-31 10:24:24.384977: I tensorflow/core/profiler/lib/profiler_session.cc:155] Profiler session started.\n"
     ]
    },
    {
     "name": "stdout",
     "output_type": "stream",
     "text": [
      "  2/100 [..............................] - ETA: 3:59 - loss: 1.0902 - accuracy: 0.4219 "
     ]
    },
    {
     "name": "stderr",
     "output_type": "stream",
     "text": [
      "2022-03-31 10:24:27.113636: I tensorflow/core/profiler/lib/profiler_session.cc:71] Profiler session collecting data.\n",
      "2022-03-31 10:24:27.135466: I tensorflow/core/profiler/lib/profiler_session.cc:172] Profiler session tear down.\n",
      "2022-03-31 10:24:27.149809: I tensorflow/core/profiler/rpc/client/save_profile.cc:137] Creating directory: logs/fit/run-0/train/plugins/profile/2022_03_31_10_24_27\n",
      "2022-03-31 10:24:27.158451: I tensorflow/core/profiler/rpc/client/save_profile.cc:143] Dumped gzipped tool data for trace.json.gz to logs/fit/run-0/train/plugins/profile/2022_03_31_10_24_27/matined-asus.trace.json.gz\n",
      "2022-03-31 10:24:27.203828: I tensorflow/core/profiler/rpc/client/save_profile.cc:137] Creating directory: logs/fit/run-0/train/plugins/profile/2022_03_31_10_24_27\n",
      "2022-03-31 10:24:27.210630: I tensorflow/core/profiler/rpc/client/save_profile.cc:143] Dumped gzipped tool data for memory_profile.json.gz to logs/fit/run-0/train/plugins/profile/2022_03_31_10_24_27/matined-asus.memory_profile.json.gz\n",
      "2022-03-31 10:24:27.212142: I tensorflow/core/profiler/rpc/client/capture_profile.cc:251] Creating directory: logs/fit/run-0/train/plugins/profile/2022_03_31_10_24_27Dumped tool data for xplane.pb to logs/fit/run-0/train/plugins/profile/2022_03_31_10_24_27/matined-asus.xplane.pb\n",
      "Dumped tool data for overview_page.pb to logs/fit/run-0/train/plugins/profile/2022_03_31_10_24_27/matined-asus.overview_page.pb\n",
      "Dumped tool data for input_pipeline.pb to logs/fit/run-0/train/plugins/profile/2022_03_31_10_24_27/matined-asus.input_pipeline.pb\n",
      "Dumped tool data for tensorflow_stats.pb to logs/fit/run-0/train/plugins/profile/2022_03_31_10_24_27/matined-asus.tensorflow_stats.pb\n",
      "Dumped tool data for kernel_stats.pb to logs/fit/run-0/train/plugins/profile/2022_03_31_10_24_27/matined-asus.kernel_stats.pb\n",
      "\n"
     ]
    },
    {
     "name": "stdout",
     "output_type": "stream",
     "text": [
      "100/100 [==============================] - 274s 3s/step - loss: 0.8885 - accuracy: 0.6324\n",
      "41/41 [==============================] - 97s 2s/step - loss: 0.8884 - accuracy: 0.6638\n"
     ]
    }
   ],
   "source": [
    "session_num = 0\n",
    "\n",
    "log_dir = \"logs/fit/\" + \"run-%d\" % session_num\n",
    "tensorboard_callback = tf.keras.callbacks.TensorBoard(log_dir=log_dir, histogram_freq=1)\n",
    "\n",
    "for num_freezed in HP_NUM_FREEZED.domain.values:\n",
    "  for optimizer in HP_OPTIMIZER.domain.values:\n",
    "    hparams = {\n",
    "        HP_NUM_FREEZED: num_freezed,\n",
    "        HP_OPTIMIZER: optimizer,\n",
    "    }\n",
    "    run_name = \"run-%d\" % session_num\n",
    "    print('--- Starting trial: %s' % run_name)\n",
    "    print({h.name: hparams[h] for h in hparams})\n",
    "    run('logs/hparam_tuning/' + run_name, hparams, tensorboard_callback)\n",
    "    session_num += 1"
   ]
  },
  {
   "cell_type": "markdown",
   "metadata": {},
   "source": [
    "## Launch tensorboard"
   ]
  },
  {
   "cell_type": "code",
   "execution_count": 12,
   "metadata": {},
   "outputs": [
    {
     "name": "stdout",
     "output_type": "stream",
     "text": [
      "The tensorboard extension is already loaded. To reload it, use:\n",
      "  %reload_ext tensorboard\n"
     ]
    }
   ],
   "source": [
    "%load_ext tensorboard"
   ]
  }
 ],
 "metadata": {
  "interpreter": {
   "hash": "735849d647085e990bbcb227c7433a7d9eadeb95323045ccb18d3b01b6af7750"
  },
  "kernelspec": {
   "display_name": "Python 3.10.3 ('x-ray')",
   "language": "python",
   "name": "python3"
  },
  "language_info": {
   "codemirror_mode": {
    "name": "ipython",
    "version": 3
   },
   "file_extension": ".py",
   "mimetype": "text/x-python",
   "name": "python",
   "nbconvert_exporter": "python",
   "pygments_lexer": "ipython3",
   "version": "3.9.12"
  },
  "orig_nbformat": 4
 },
 "nbformat": 4,
 "nbformat_minor": 2
}
