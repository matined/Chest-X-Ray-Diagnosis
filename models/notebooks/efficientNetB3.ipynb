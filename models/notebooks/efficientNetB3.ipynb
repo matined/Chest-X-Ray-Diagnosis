{
 "cells": [
  {
   "cell_type": "markdown",
   "metadata": {},
   "source": [
    "# Transfer Learning: EfficientNetB3\n",
    "\n",
    "We will use a pre-trained model with EfficientNetB3 architecture with \"imageNet\" weights. "
   ]
  },
  {
   "cell_type": "markdown",
   "metadata": {},
   "source": [
    "### imports"
   ]
  },
  {
   "cell_type": "code",
   "execution_count": 1,
   "metadata": {},
   "outputs": [],
   "source": [
    "import numpy as np\n",
    "from PIL import Image\n",
    "\n",
    "import tensorflow as tf\n",
    "from tensorflow.keras.preprocessing.image import ImageDataGenerator\n",
    "from tensorflow.keras.layers import Conv2D, Dropout, Dense, MaxPool2D, Flatten, AvgPool2D\n",
    "from tensorflow.keras.callbacks import EarlyStopping\n",
    "\n",
    "import matplotlib.pyplot as plt\n"
   ]
  },
  {
   "cell_type": "markdown",
   "metadata": {},
   "source": [
    "### Generators for loading and augmenting images"
   ]
  },
  {
   "cell_type": "code",
   "execution_count": 2,
   "metadata": {},
   "outputs": [
    {
     "name": "stdout",
     "output_type": "stream",
     "text": [
      "Found 5144 images belonging to 3 classes.\n",
      "Found 1288 images belonging to 3 classes.\n"
     ]
    }
   ],
   "source": [
    "# train_datagen = ImageDataGenerator(rescale=1./255,\n",
    "#                                      shear_range=0.1,\n",
    "#                                      zoom_range=0.1,\n",
    "#                                      rotation_range=5,\n",
    "#                                      width_shift_range=0.1,\n",
    "#                                      height_shift_range=0.1,\n",
    "#                                      fill_mode='nearest')\n",
    "train_datagen = ImageDataGenerator(rescale=1./255)\n",
    "\n",
    "test_datagen = ImageDataGenerator(rescale=1./255)\n",
    "\n",
    "train_generator = train_datagen.flow_from_directory('../data/train',\n",
    "                                                    target_size=(150, 150),\n",
    "                                                    batch_size=32,\n",
    "                                                    class_mode='categorical')\n",
    "test_generator = test_datagen.flow_from_directory('../data/test',\n",
    "                                                  target_size=(150, 150),\n",
    "                                                  batch_size=32,\n",
    "                                                  class_mode='categorical')\n",
    "                                            "
   ]
  },
  {
   "cell_type": "markdown",
   "metadata": {},
   "source": [
    "### Model"
   ]
  },
  {
   "cell_type": "code",
   "execution_count": 3,
   "metadata": {},
   "outputs": [
    {
     "name": "stderr",
     "output_type": "stream",
     "text": [
      "2022-03-29 11:57:04.853140: I tensorflow/core/platform/cpu_feature_guard.cc:151] This TensorFlow binary is optimized with oneAPI Deep Neural Network Library (oneDNN) to use the following CPU instructions in performance-critical operations:  SSE4.1 SSE4.2 AVX AVX2 FMA\n",
      "To enable them in other operations, rebuild TensorFlow with the appropriate compiler flags.\n"
     ]
    },
    {
     "name": "stdout",
     "output_type": "stream",
     "text": [
      "Downloading data from https://storage.googleapis.com/keras-applications/efficientnetb3_notop.h5\n",
      "43941888/43941136 [==============================] - 6s 0us/step\n",
      "43950080/43941136 [==============================] - 6s 0us/step\n"
     ]
    }
   ],
   "source": [
    "class XrayModel(tf.keras.Model):\n",
    "    def __init__(self):\n",
    "        super(XrayModel, self).__init__()\n",
    "\n",
    "        self.base_model = tf.keras.applications.EfficientNetB3(input_shape=(150, 150, 3),\n",
    "                                                               include_top=False,\n",
    "                                                               weights='imagenet')\n",
    "        for layer in self.base_model.layers:\n",
    "            layer.trainable = False\n",
    "        for layer in self.base_model.layers[-10:]:\n",
    "            layer.trainable = True\n",
    "\n",
    "        self.pool = AvgPool2D()\n",
    "        self.flatten = Flatten()\n",
    "        self.classifier = Dense(3, activation='softmax')\n",
    "    \n",
    "    def call(self, inputs):\n",
    "        x = self.base_model(inputs)\n",
    "        x = self.pool(x)\n",
    "        x = self.flatten(x)\n",
    "        outputs = self.classifier(x)\n",
    "        return outputs\n",
    "\n",
    "model = XrayModel()\n"
   ]
  },
  {
   "cell_type": "markdown",
   "metadata": {},
   "source": [
    "## Load the saved model"
   ]
  },
  {
   "cell_type": "code",
   "execution_count": 3,
   "metadata": {},
   "outputs": [
    {
     "name": "stderr",
     "output_type": "stream",
     "text": [
      "2022-03-29 10:19:17.526229: I tensorflow/core/platform/cpu_feature_guard.cc:151] This TensorFlow binary is optimized with oneAPI Deep Neural Network Library (oneDNN) to use the following CPU instructions in performance-critical operations:  SSE4.1 SSE4.2 AVX AVX2 FMA\n",
      "To enable them in other operations, rebuild TensorFlow with the appropriate compiler flags.\n"
     ]
    }
   ],
   "source": [
    "model = tf.keras.models.load_model('../models/efficientNetB3')"
   ]
  },
  {
   "cell_type": "markdown",
   "metadata": {},
   "source": [
    "### Compile and train"
   ]
  },
  {
   "cell_type": "code",
   "execution_count": 4,
   "metadata": {},
   "outputs": [],
   "source": [
    "model.compile(loss=tf.keras.losses.CategoricalCrossentropy(),\n",
    "              optimizer=tf.keras.optimizers.Adam(),\n",
    "              metrics='accuracy')\n"
   ]
  },
  {
   "cell_type": "code",
   "execution_count": 5,
   "metadata": {},
   "outputs": [],
   "source": [
    "class MyCallback(tf.keras.callbacks.Callback):\n",
    "    def on_epoch_end(self, epoch, logs={}):\n",
    "        if logs.get('accuracy') > 0.90:\n",
    "            self.model.stop_training = True\n"
   ]
  },
  {
   "cell_type": "code",
   "execution_count": 6,
   "metadata": {},
   "outputs": [
    {
     "name": "stdout",
     "output_type": "stream",
     "text": [
      "Epoch 1/5\n",
      "100/100 [==============================] - 109s 1s/step - loss: 0.8860 - accuracy: 0.6553 - val_loss: 0.7079 - val_accuracy: 0.7500\n",
      "Epoch 2/5\n",
      "100/100 [==============================] - 100s 999ms/step - loss: 0.8893 - accuracy: 0.6441 - val_loss: 0.7834 - val_accuracy: 0.7396\n",
      "Epoch 3/5\n",
      "100/100 [==============================] - 102s 1s/step - loss: 0.8675 - accuracy: 0.6554 - val_loss: 0.7785 - val_accuracy: 0.7083\n",
      "Epoch 4/5\n",
      "100/100 [==============================] - 103s 1s/step - loss: 0.8483 - accuracy: 0.6626 - val_loss: 0.8801 - val_accuracy: 0.6458\n",
      "Epoch 5/5\n",
      "100/100 [==============================] - 107s 1s/step - loss: 0.8495 - accuracy: 0.6598 - val_loss: 0.7663 - val_accuracy: 0.7917\n"
     ]
    },
    {
     "data": {
      "text/plain": [
       "<keras.callbacks.History at 0x7f0e30237760>"
      ]
     },
     "execution_count": 6,
     "metadata": {},
     "output_type": "execute_result"
    }
   ],
   "source": [
    "model.fit(train_generator,\n",
    "         steps_per_epoch=100,\n",
    "         epochs=5,\n",
    "         validation_data=test_generator,\n",
    "         validation_steps=3,\n",
    "         callbacks=[MyCallback(), \n",
    "                    EarlyStopping(monitor='val_loss', mode='min',\n",
    "                                  verbose=1, patience=5)])"
   ]
  },
  {
   "cell_type": "markdown",
   "metadata": {},
   "source": [
    "## Evaluate"
   ]
  },
  {
   "cell_type": "code",
   "execution_count": 4,
   "metadata": {},
   "outputs": [
    {
     "name": "stdout",
     "output_type": "stream",
     "text": [
      "41/41 [==============================] - 32s 742ms/step - loss: 0.2139 - accuracy: 0.9270\n"
     ]
    },
    {
     "data": {
      "text/plain": [
       "[0.21387270092964172, 0.9270186424255371]"
      ]
     },
     "execution_count": 4,
     "metadata": {},
     "output_type": "execute_result"
    }
   ],
   "source": [
    "model.evaluate(test_generator)"
   ]
  },
  {
   "cell_type": "markdown",
   "metadata": {},
   "source": [
    "## Save"
   ]
  },
  {
   "cell_type": "code",
   "execution_count": 7,
   "metadata": {},
   "outputs": [
    {
     "name": "stderr",
     "output_type": "stream",
     "text": [
      "2022-03-29 12:08:11.785970: W tensorflow/python/util/util.cc:368] Sets are not currently considered sequences, but this may change in the future, so consider avoiding using them.\n"
     ]
    },
    {
     "name": "stdout",
     "output_type": "stream",
     "text": [
      "INFO:tensorflow:Assets written to: ../models/efficientNetB3/assets\n"
     ]
    },
    {
     "name": "stderr",
     "output_type": "stream",
     "text": [
      "/home/matined/anaconda3/envs/x-ray/lib/python3.10/site-packages/keras/engine/functional.py:1410: CustomMaskWarning: Custom mask layers require a config and must override get_config. When loading, the custom mask layer must be passed to the custom_objects argument.\n",
      "  layer_config = serialize_layer_fn(layer)\n",
      "/home/matined/anaconda3/envs/x-ray/lib/python3.10/site-packages/keras/saving/saved_model/layer_serialization.py:112: CustomMaskWarning: Custom mask layers require a config and must override get_config. When loading, the custom mask layer must be passed to the custom_objects argument.\n",
      "  return generic_utils.serialize_keras_object(obj)\n"
     ]
    }
   ],
   "source": [
    "model.save('../models/efficientNetB3', save_format='tf')"
   ]
  }
 ],
 "metadata": {
  "interpreter": {
   "hash": "11e9d9fdbf9047f688966c76949758b6f7cc66ce0e5baecbe379c1f5d4738880"
  },
  "kernelspec": {
   "display_name": "Python 3.9.7 ('bitcoin')",
   "language": "python",
   "name": "python3"
  },
  "language_info": {
   "codemirror_mode": {
    "name": "ipython",
    "version": 3
   },
   "file_extension": ".py",
   "mimetype": "text/x-python",
   "name": "python",
   "nbconvert_exporter": "python",
   "pygments_lexer": "ipython3",
   "version": "3.10.3"
  },
  "orig_nbformat": 4
 },
 "nbformat": 4,
 "nbformat_minor": 2
}
