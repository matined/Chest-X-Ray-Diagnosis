{
 "cells": [
  {
   "cell_type": "markdown",
   "metadata": {},
   "source": [
    "# Custom ConvNet\n",
    "\n",
    "Training a custom model from scratch takes too much time, thus I'll not try any hyperparameter tunig here."
   ]
  },
  {
   "cell_type": "markdown",
   "metadata": {},
   "source": [
    "### imports"
   ]
  },
  {
   "cell_type": "code",
   "execution_count": 13,
   "metadata": {},
   "outputs": [],
   "source": [
    "import numpy as np\n",
    "import tensorflow as tf\n",
    "from PIL import Image\n",
    "\n",
    "from tensorflow.keras.preprocessing.image import ImageDataGenerator\n",
    "from tensorflow.keras.layers import Conv2D, Dropout, Dense, MaxPool2D, Flatten\n",
    "\n",
    "import matplotlib.pyplot as plt\n"
   ]
  },
  {
   "cell_type": "markdown",
   "metadata": {},
   "source": [
    "### Load and augment images"
   ]
  },
  {
   "cell_type": "code",
   "execution_count": 6,
   "metadata": {},
   "outputs": [
    {
     "name": "stdout",
     "output_type": "stream",
     "text": [
      "Found 5144 images belonging to 3 classes.\n",
      "Found 1288 images belonging to 3 classes.\n"
     ]
    }
   ],
   "source": [
    "train_datagen = ImageDataGenerator(rescale=1./255,\n",
    "                                     shear_range=0.2,\n",
    "                                     zoom_range=0.2,\n",
    "                                     rotation_range=5,\n",
    "                                     width_shift_range=0.1,\n",
    "                                     height_shift_range=0.1,\n",
    "                                     fill_mode='nearest')\n",
    "test_datagen = ImageDataGenerator(rescale=1./255)\n",
    "\n",
    "train_generator = train_datagen.flow_from_directory('../data/train',\n",
    "                                                    target_size=(200, 200),\n",
    "                                                    batch_size=32,\n",
    "                                                    class_mode='categorical')\n",
    "test_generator = test_datagen.flow_from_directory('../data/test',\n",
    "                                                    target_size=(200, 200),\n",
    "                                                    batch_size=32,\n",
    "                                                    class_mode='categorical')\n",
    "                                            "
   ]
  },
  {
   "cell_type": "markdown",
   "metadata": {},
   "source": [
    "### Model"
   ]
  },
  {
   "cell_type": "code",
   "execution_count": 7,
   "metadata": {},
   "outputs": [],
   "source": [
    "class XrayModel(tf.keras.Model):\n",
    "    def __init__(self):\n",
    "        super(XrayModel, self).__init__()\n",
    "\n",
    "        self.conv1 = Conv2D(16, kernel_size=5, padding='same', activation='relu')\n",
    "        self.conv2 = Conv2D(32, kernel_size=5, padding='same', activation='relu')\n",
    "        self.conv3 = Conv2D(64, kernel_size=5, padding='same', activation='relu')\n",
    "        self.conv4 = Conv2D(128, kernel_size=5, padding='same', activation='relu')\n",
    "        self.conv5 = Conv2D(256, kernel_size=5, padding='same', activation='relu')\n",
    "\n",
    "        self.maxPool = MaxPool2D(pool_size=(2, 2))\n",
    "\n",
    "        self.flatten = Flatten()\n",
    "        self.dense = Dense(256, activation='relu')\n",
    "        self.classifier = Dense(3, activation='softmax')\n",
    "    \n",
    "    def call(self, inputs):\n",
    "        x = self.conv1(inputs)\n",
    "        x = self.maxPool(x)\n",
    "\n",
    "        x = self.conv2(x)\n",
    "        x = self.maxPool(x)\n",
    "\n",
    "        x = self.conv3(x)\n",
    "        x = self.maxPool(x)\n",
    "\n",
    "        x = self.conv4(x)\n",
    "        x = self.maxPool(x)\n",
    "\n",
    "        x = self.conv5(x)\n",
    "        x = self.maxPool(x)\n",
    "\n",
    "        x = self.flatten(x)\n",
    "        x = self.dense(x)\n",
    "        outputs = self.classifier(x)\n",
    "        return outputs\n",
    "        \n",
    "        "
   ]
  },
  {
   "cell_type": "markdown",
   "metadata": {},
   "source": [
    "### Compile and train"
   ]
  },
  {
   "cell_type": "code",
   "execution_count": 8,
   "metadata": {},
   "outputs": [],
   "source": [
    "model = XrayModel()\n",
    "\n",
    "model.compile(loss=tf.keras.losses.CategoricalCrossentropy(),\n",
    "              optimizer=tf.keras.optimizers.Adam(),\n",
    "              metrics='accuracy')"
   ]
  },
  {
   "cell_type": "code",
   "execution_count": 10,
   "metadata": {},
   "outputs": [
    {
     "name": "stdout",
     "output_type": "stream",
     "text": [
      "Epoch 1/20\n",
      "160/160 [==============================] - ETA: 0s - loss: 0.3912 - accuracy: 0.8419WARNING:tensorflow:Your input ran out of data; interrupting training. Make sure that your dataset or generator can generate at least `steps_per_epoch * epochs` batches (in this case, 800 batches). You may need to use the repeat() function when building your dataset.\n",
      "160/160 [==============================] - 250s 2s/step - loss: 0.3912 - accuracy: 0.8419 - val_loss: 0.2617 - val_accuracy: 0.9115\n",
      "Epoch 2/20\n",
      "160/160 [==============================] - 216s 1s/step - loss: 0.3235 - accuracy: 0.8719\n",
      "Epoch 3/20\n",
      "160/160 [==============================] - 215s 1s/step - loss: 0.2667 - accuracy: 0.8998\n",
      "Epoch 4/20\n",
      "160/160 [==============================] - 215s 1s/step - loss: 0.2424 - accuracy: 0.9079\n",
      "Epoch 5/20\n",
      "160/160 [==============================] - 228s 1s/step - loss: 0.2105 - accuracy: 0.9216\n",
      "Epoch 6/20\n",
      "160/160 [==============================] - 207s 1s/step - loss: 0.1759 - accuracy: 0.9372\n",
      "Epoch 7/20\n",
      "160/160 [==============================] - 215s 1s/step - loss: 0.1730 - accuracy: 0.9372\n",
      "Epoch 8/20\n",
      "160/160 [==============================] - 216s 1s/step - loss: 0.1670 - accuracy: 0.9427\n",
      "Epoch 9/20\n",
      "160/160 [==============================] - 216s 1s/step - loss: 0.1602 - accuracy: 0.9437\n",
      "Epoch 10/20\n",
      "160/160 [==============================] - 207s 1s/step - loss: 0.1463 - accuracy: 0.9505\n",
      "Epoch 11/20\n",
      "160/160 [==============================] - 204s 1s/step - loss: 0.1361 - accuracy: 0.9542\n",
      "Epoch 12/20\n",
      "160/160 [==============================] - 224s 1s/step - loss: 0.1433 - accuracy: 0.9509\n",
      "Epoch 13/20\n",
      "160/160 [==============================] - 231s 1s/step - loss: 0.1446 - accuracy: 0.9495\n",
      "Epoch 14/20\n",
      "160/160 [==============================] - 257s 2s/step - loss: 0.1272 - accuracy: 0.9532\n",
      "Epoch 15/20\n",
      "160/160 [==============================] - 253s 2s/step - loss: 0.1184 - accuracy: 0.9585\n",
      "Epoch 16/20\n",
      "160/160 [==============================] - 261s 2s/step - loss: 0.1193 - accuracy: 0.9562\n",
      "Epoch 17/20\n",
      "160/160 [==============================] - 238s 1s/step - loss: 0.1140 - accuracy: 0.9576\n",
      "Epoch 18/20\n",
      "160/160 [==============================] - 248s 2s/step - loss: 0.1232 - accuracy: 0.9560\n",
      "Epoch 19/20\n",
      "160/160 [==============================] - 253s 2s/step - loss: 0.1187 - accuracy: 0.9593\n",
      "Epoch 20/20\n",
      "160/160 [==============================] - 257s 2s/step - loss: 0.1106 - accuracy: 0.9601\n"
     ]
    },
    {
     "data": {
      "text/plain": [
       "<tensorflow.python.keras.callbacks.History at 0x7fee3c5f4eb0>"
      ]
     },
     "execution_count": 10,
     "metadata": {},
     "output_type": "execute_result"
    }
   ],
   "source": [
    "model.fit(train_generator,\n",
    "         steps_per_epoch=160,\n",
    "         epochs=20,\n",
    "         validation_data=test_generator,\n",
    "         validation_steps=800)"
   ]
  },
  {
   "cell_type": "markdown",
   "metadata": {},
   "source": [
    "## Evaluate"
   ]
  },
  {
   "cell_type": "code",
   "execution_count": 11,
   "metadata": {},
   "outputs": [
    {
     "name": "stdout",
     "output_type": "stream",
     "text": [
      "41/41 [==============================] - 34s 829ms/step - loss: 0.1249 - accuracy: 0.9503\n"
     ]
    },
    {
     "data": {
      "text/plain": [
       "[0.12490388751029968, 0.9503105878829956]"
      ]
     },
     "execution_count": 11,
     "metadata": {},
     "output_type": "execute_result"
    }
   ],
   "source": [
    "model.evaluate(test_generator)"
   ]
  },
  {
   "cell_type": "markdown",
   "metadata": {},
   "source": [
    "The default model managed to obtain over 95% accuracy of the cross-validation set."
   ]
  }
 ],
 "metadata": {
  "interpreter": {
   "hash": "11e9d9fdbf9047f688966c76949758b6f7cc66ce0e5baecbe379c1f5d4738880"
  },
  "kernelspec": {
   "display_name": "Python 3.9.7 ('bitcoin')",
   "language": "python",
   "name": "python3"
  },
  "language_info": {
   "codemirror_mode": {
    "name": "ipython",
    "version": 3
   },
   "file_extension": ".py",
   "mimetype": "text/x-python",
   "name": "python",
   "nbconvert_exporter": "python",
   "pygments_lexer": "ipython3",
   "version": "3.9.7"
  },
  "orig_nbformat": 4
 },
 "nbformat": 4,
 "nbformat_minor": 2
}
