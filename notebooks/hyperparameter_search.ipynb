{
 "cells": [
  {
   "cell_type": "markdown",
   "metadata": {},
   "source": [
    "### imports"
   ]
  },
  {
   "cell_type": "code",
   "execution_count": 13,
   "metadata": {},
   "outputs": [],
   "source": [
    "import sys\n",
    "\n",
    "import tensorflow as tf\n",
    "from tensorflow.keras.preprocessing.image import ImageDataGenerator\n",
    "from tensorboard.plugins.hparams import api as hp\n",
    "\n",
    "import sklearn\n",
    "\n",
    "sys.path.append('../')\n",
    "import models\n"
   ]
  },
  {
   "cell_type": "markdown",
   "metadata": {},
   "source": [
    "### Generators for loading and augmenting images"
   ]
  },
  {
   "cell_type": "code",
   "execution_count": 14,
   "metadata": {},
   "outputs": [
    {
     "name": "stdout",
     "output_type": "stream",
     "text": [
      "Found 5144 images belonging to 3 classes.\n",
      "Found 1288 images belonging to 3 classes.\n"
     ]
    }
   ],
   "source": [
    "# train_datagen = ImageDataGenerator(rescale=1./255,\n",
    "#                                      shear_range=0.1,\n",
    "#                                      zoom_range=0.1,\n",
    "#                                      rotation_range=5,\n",
    "#                                      width_shift_range=0.1,\n",
    "#                                      height_shift_range=0.1,\n",
    "#                                      fill_mode='nearest')\n",
    "train_datagen = ImageDataGenerator(rescale=1./255)\n",
    "\n",
    "test_datagen = ImageDataGenerator(rescale=1./255)\n",
    "\n",
    "train_generator = train_datagen.flow_from_directory('../data/train',\n",
    "                                                    target_size=(150, 150),\n",
    "                                                    batch_size=32,\n",
    "                                                    class_mode='categorical')\n",
    "test_generator = test_datagen.flow_from_directory('../data/test',\n",
    "                                                  target_size=(150, 150),\n",
    "                                                  batch_size=32,\n",
    "                                                  class_mode='categorical')\n",
    "                                            "
   ]
  },
  {
   "cell_type": "markdown",
   "metadata": {},
   "source": [
    "### Setup for experiment"
   ]
  },
  {
   "cell_type": "code",
   "execution_count": 15,
   "metadata": {},
   "outputs": [],
   "source": [
    "HP_NUM_FREEZED = hp.HParam('num_freezed', hp.Discrete([3, 5]))\n",
    "HP_OPTIMIZER = hp.HParam('optimizer', hp.Discrete(['adam', 'RMSprop']))\n",
    "\n",
    "METRIC_ACCURACY = 'accuracy'\n",
    "\n",
    "with tf.summary.create_file_writer('logs/hparam_tuning').as_default():\n",
    "  hp.hparams_config(\n",
    "    hparams=[HP_NUM_FREEZED, HP_OPTIMIZER],\n",
    "    metrics=[hp.Metric(METRIC_ACCURACY, display_name='Accuracy')],\n",
    "  )"
   ]
  },
  {
   "cell_type": "markdown",
   "metadata": {},
   "source": [
    "### Training function"
   ]
  },
  {
   "cell_type": "code",
   "execution_count": 16,
   "metadata": {},
   "outputs": [],
   "source": [
    "def train_test_model(hparams):\n",
    "    model = models.XrayModelEfficient(hparams[HP_NUM_FREEZED])\n",
    "    model.compile(loss=tf.keras.losses.CategoricalCrossentropy(),\n",
    "                  optimizer=hparams[HP_OPTIMIZER],\n",
    "                  metrics='accuracy')\n",
    "\n",
    "    model.fit(train_generator,\n",
    "              steps_per_epoch=100,\n",
    "              epochs=1)\n",
    "    \n",
    "    _, accuracy = model.evaluate(test_generator)\n",
    "    return accuracy"
   ]
  },
  {
   "cell_type": "code",
   "execution_count": 17,
   "metadata": {},
   "outputs": [],
   "source": [
    "def run(run_dir, hparams):\n",
    "  with tf.summary.create_file_writer(run_dir).as_default():\n",
    "    hp.hparams(hparams)  # record the values used in this trial\n",
    "    accuracy = train_test_model(hparams)\n",
    "    tf.summary.scalar(METRIC_ACCURACY, accuracy, step=1)"
   ]
  },
  {
   "cell_type": "code",
   "execution_count": 18,
   "metadata": {},
   "outputs": [
    {
     "name": "stdout",
     "output_type": "stream",
     "text": [
      "--- Starting trial: run-0\n",
      "{'num_freezed': 3, 'optimizer': 'RMSprop'}\n",
      "100/100 [==============================] - 99s 921ms/step - loss: 1.0835 - accuracy: 0.6006\n",
      "41/41 [==============================] - 38s 875ms/step - loss: 1.1125 - accuracy: 0.6638\n",
      "--- Starting trial: run-1\n",
      "{'num_freezed': 3, 'optimizer': 'adam'}\n",
      "100/100 [==============================] - 101s 933ms/step - loss: 0.9237 - accuracy: 0.6225\n",
      "41/41 [==============================] - 38s 875ms/step - loss: 0.8847 - accuracy: 0.6638\n",
      "--- Starting trial: run-2\n",
      "{'num_freezed': 5, 'optimizer': 'RMSprop'}\n",
      "100/100 [==============================] - 101s 933ms/step - loss: 1.0839 - accuracy: 0.5843\n",
      "41/41 [==============================] - 37s 869ms/step - loss: 1.1086 - accuracy: 0.6638\n",
      "--- Starting trial: run-3\n",
      "{'num_freezed': 5, 'optimizer': 'adam'}\n",
      "100/100 [==============================] - 102s 955ms/step - loss: 0.9527 - accuracy: 0.6184\n",
      "41/41 [==============================] - 39s 900ms/step - loss: 0.8349 - accuracy: 0.6638\n"
     ]
    }
   ],
   "source": [
    "session_num = 0\n",
    "\n",
    "for num_freezed in HP_NUM_FREEZED.domain.values:\n",
    "  for optimizer in HP_OPTIMIZER.domain.values:\n",
    "    hparams = {\n",
    "        HP_NUM_FREEZED: num_freezed,\n",
    "        HP_OPTIMIZER: optimizer,\n",
    "    }\n",
    "    run_name = \"run-%d\" % session_num\n",
    "    print('--- Starting trial: %s' % run_name)\n",
    "    print({h.name: hparams[h] for h in hparams})\n",
    "    run('logs/hparam_tuning/' + run_name, hparams)\n",
    "    session_num += 1"
   ]
  },
  {
   "cell_type": "code",
   "execution_count": 27,
   "metadata": {},
   "outputs": [],
   "source": [
    "from collections.abc import Mapping"
   ]
  },
  {
   "cell_type": "code",
   "execution_count": 28,
   "metadata": {},
   "outputs": [
    {
     "name": "stdout",
     "output_type": "stream",
     "text": [
      "The tensorboard extension is already loaded. To reload it, use:\n",
      "  %reload_ext tensorboard\n"
     ]
    }
   ],
   "source": [
    "%load_ext tensorboard"
   ]
  },
  {
   "cell_type": "code",
   "execution_count": 29,
   "metadata": {},
   "outputs": [
    {
     "data": {
      "text/plain": [
       "ERROR: Failed to launch TensorBoard (exited with 1).\n",
       "Contents of stderr:\n",
       "Traceback (most recent call last):\n",
       "  File \"/home/matined/anaconda3/envs/x-ray/bin/tensorboard\", line 6, in <module>\n",
       "    from tensorboard.main import run_main\n",
       "  File \"/home/matined/anaconda3/envs/x-ray/lib/python3.10/site-packages/tensorboard/main.py\", line 27, in <module>\n",
       "    from tensorboard import default\n",
       "  File \"/home/matined/anaconda3/envs/x-ray/lib/python3.10/site-packages/tensorboard/default.py\", line 33, in <module>\n",
       "    from tensorboard.plugins.audio import audio_plugin\n",
       "  File \"/home/matined/anaconda3/envs/x-ray/lib/python3.10/site-packages/tensorboard/plugins/audio/audio_plugin.py\", line 23, in <module>\n",
       "    from tensorboard import plugin_util\n",
       "  File \"/home/matined/anaconda3/envs/x-ray/lib/python3.10/site-packages/tensorboard/plugin_util.py\", line 20, in <module>\n",
       "    from tensorboard._vendor.bleach.sanitizer import Cleaner\n",
       "  File \"/home/matined/anaconda3/envs/x-ray/lib/python3.10/site-packages/tensorboard/_vendor/bleach/__init__.py\", line 5, in <module>\n",
       "    from tensorboard._vendor.bleach.linkifier import (\n",
       "  File \"/home/matined/anaconda3/envs/x-ray/lib/python3.10/site-packages/tensorboard/_vendor/bleach/linkifier.py\", line 4, in <module>\n",
       "    from tensorboard._vendor import html5lib\n",
       "  File \"/home/matined/anaconda3/envs/x-ray/lib/python3.10/site-packages/tensorboard/_vendor/html5lib/__init__.py\", line 25, in <module>\n",
       "    from .html5parser import HTMLParser, parse, parseFragment\n",
       "  File \"/home/matined/anaconda3/envs/x-ray/lib/python3.10/site-packages/tensorboard/_vendor/html5lib/html5parser.py\", line 8, in <module>\n",
       "    from . import _tokenizer\n",
       "  File \"/home/matined/anaconda3/envs/x-ray/lib/python3.10/site-packages/tensorboard/_vendor/html5lib/_tokenizer.py\", line 16, in <module>\n",
       "    from ._trie import Trie\n",
       "  File \"/home/matined/anaconda3/envs/x-ray/lib/python3.10/site-packages/tensorboard/_vendor/html5lib/_trie/__init__.py\", line 3, in <module>\n",
       "    from .py import Trie as PyTrie\n",
       "  File \"/home/matined/anaconda3/envs/x-ray/lib/python3.10/site-packages/tensorboard/_vendor/html5lib/_trie/py.py\", line 6, in <module>\n",
       "    from ._base import Trie as ABCTrie\n",
       "  File \"/home/matined/anaconda3/envs/x-ray/lib/python3.10/site-packages/tensorboard/_vendor/html5lib/_trie/_base.py\", line 3, in <module>\n",
       "    from collections import Mapping\n",
       "ImportError: cannot import name 'Mapping' from 'collections' (/home/matined/anaconda3/envs/x-ray/lib/python3.10/collections/__init__.py)"
      ]
     },
     "metadata": {},
     "output_type": "display_data"
    }
   ],
   "source": [
    "%tensorboard --logdir logs/hparam_tuning"
   ]
  }
 ],
 "metadata": {
  "interpreter": {
   "hash": "735849d647085e990bbcb227c7433a7d9eadeb95323045ccb18d3b01b6af7750"
  },
  "kernelspec": {
   "display_name": "Python 3.10.3 ('x-ray')",
   "language": "python",
   "name": "python3"
  },
  "language_info": {
   "codemirror_mode": {
    "name": "ipython",
    "version": 3
   },
   "file_extension": ".py",
   "mimetype": "text/x-python",
   "name": "python",
   "nbconvert_exporter": "python",
   "pygments_lexer": "ipython3",
   "version": "3.10.3"
  },
  "orig_nbformat": 4
 },
 "nbformat": 4,
 "nbformat_minor": 2
}
