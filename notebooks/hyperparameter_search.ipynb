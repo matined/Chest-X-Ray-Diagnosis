{
 "cells": [
  {
   "cell_type": "markdown",
   "metadata": {},
   "source": [
    "### imports"
   ]
  },
  {
   "cell_type": "code",
   "execution_count": 1,
   "metadata": {},
   "outputs": [],
   "source": [
    "import sys\n",
    "\n",
    "import tensorflow as tf\n",
    "from tensorflow.keras.preprocessing.image import ImageDataGenerator\n",
    "from tensorboard.plugins.hparams import api as hp\n",
    "from PIL import Image\n",
    "from collections.abc import Mapping\n",
    "\n",
    "import sklearn\n",
    "\n",
    "sys.path.append('../')\n",
    "import models\n"
   ]
  },
  {
   "cell_type": "markdown",
   "metadata": {},
   "source": [
    "### Generators for loading and augmenting images"
   ]
  },
  {
   "cell_type": "code",
   "execution_count": 2,
   "metadata": {},
   "outputs": [
    {
     "name": "stdout",
     "output_type": "stream",
     "text": [
      "Found 5144 images belonging to 3 classes.\n",
      "Found 1288 images belonging to 3 classes.\n"
     ]
    }
   ],
   "source": [
    "# train_datagen = ImageDataGenerator(rescale=1./255,\n",
    "#                                      shear_range=0.1,\n",
    "#                                      zoom_range=0.1,\n",
    "#                                      rotation_range=5,\n",
    "#                                      width_shift_range=0.1,\n",
    "#                                      height_shift_range=0.1,\n",
    "#                                      fill_mode='nearest')\n",
    "train_datagen = ImageDataGenerator(rescale=1./255)\n",
    "\n",
    "test_datagen = ImageDataGenerator(rescale=1./255)\n",
    "\n",
    "train_generator = train_datagen.flow_from_directory('../data/train',\n",
    "                                                    target_size=(150, 150),\n",
    "                                                    batch_size=32,\n",
    "                                                    class_mode='categorical')\n",
    "test_generator = test_datagen.flow_from_directory('../data/test',\n",
    "                                                  target_size=(150, 150),\n",
    "                                                  batch_size=32,\n",
    "                                                  class_mode='categorical')\n",
    "                                            "
   ]
  },
  {
   "cell_type": "markdown",
   "metadata": {},
   "source": [
    "### Setup for experiment"
   ]
  },
  {
   "cell_type": "code",
   "execution_count": 3,
   "metadata": {},
   "outputs": [
    {
     "name": "stderr",
     "output_type": "stream",
     "text": [
      "2022-03-30 11:22:19.444603: I tensorflow/compiler/jit/xla_cpu_device.cc:41] Not creating XLA devices, tf_xla_enable_xla_devices not set\n",
      "2022-03-30 11:22:19.445559: I tensorflow/core/platform/cpu_feature_guard.cc:142] This TensorFlow binary is optimized with oneAPI Deep Neural Network Library (oneDNN) to use the following CPU instructions in performance-critical operations:  SSE4.1 SSE4.2 AVX AVX2 FMA\n",
      "To enable them in other operations, rebuild TensorFlow with the appropriate compiler flags.\n",
      "2022-03-30 11:22:19.447541: I tensorflow/core/common_runtime/process_util.cc:146] Creating new thread pool with default inter op setting: 2. Tune using inter_op_parallelism_threads for best performance.\n"
     ]
    }
   ],
   "source": [
    "HP_NUM_FREEZED = hp.HParam('num_freezed', hp.Discrete([3, 5]))\n",
    "HP_OPTIMIZER = hp.HParam('optimizer', hp.Discrete(['adam', 'RMSprop']))\n",
    "\n",
    "METRIC_ACCURACY = 'accuracy'\n",
    "\n",
    "with tf.summary.create_file_writer('logs/hparam_tuning').as_default():\n",
    "  hp.hparams_config(\n",
    "    hparams=[HP_NUM_FREEZED, HP_OPTIMIZER],\n",
    "    metrics=[hp.Metric(METRIC_ACCURACY, display_name='Accuracy')],\n",
    "  )"
   ]
  },
  {
   "cell_type": "markdown",
   "metadata": {},
   "source": [
    "### Training function"
   ]
  },
  {
   "cell_type": "code",
   "execution_count": 4,
   "metadata": {},
   "outputs": [],
   "source": [
    "def train_test_model(hparams):\n",
    "    model = models.XrayModelEfficient(hparams[HP_NUM_FREEZED])\n",
    "    model.compile(loss=tf.keras.losses.CategoricalCrossentropy(),\n",
    "                  optimizer=hparams[HP_OPTIMIZER],\n",
    "                  metrics='accuracy')\n",
    "\n",
    "    model.fit(train_generator,\n",
    "              steps_per_epoch=100,\n",
    "              epochs=1)\n",
    "    \n",
    "    _, accuracy = model.evaluate(test_generator)\n",
    "    return accuracy"
   ]
  },
  {
   "cell_type": "markdown",
   "metadata": {},
   "source": [
    "### Run experiments"
   ]
  },
  {
   "cell_type": "code",
   "execution_count": 5,
   "metadata": {},
   "outputs": [],
   "source": [
    "def run(run_dir, hparams):\n",
    "  with tf.summary.create_file_writer(run_dir).as_default():\n",
    "    hp.hparams(hparams)  # record the values used in this trial\n",
    "    accuracy = train_test_model(hparams)\n",
    "    tf.summary.scalar(METRIC_ACCURACY, accuracy, step=1)"
   ]
  },
  {
   "cell_type": "code",
   "execution_count": 6,
   "metadata": {},
   "outputs": [
    {
     "name": "stdout",
     "output_type": "stream",
     "text": [
      "--- Starting trial: run-0\n",
      "{'num_freezed': 3, 'optimizer': 'RMSprop'}\n"
     ]
    },
    {
     "name": "stderr",
     "output_type": "stream",
     "text": [
      "2022-03-30 11:22:26.431278: I tensorflow/compiler/mlir/mlir_graph_optimization_pass.cc:116] None of the MLIR optimization passes are enabled (registered 2)\n",
      "2022-03-30 11:22:26.452570: I tensorflow/core/platform/profile_utils/cpu_utils.cc:112] CPU Frequency: 2801090000 Hz\n"
     ]
    },
    {
     "name": "stdout",
     "output_type": "stream",
     "text": [
      "100/100 [==============================] - 320s 3s/step - loss: 1.0526 - accuracy: 0.5903\n",
      "41/41 [==============================] - 125s 3s/step - loss: 0.8357 - accuracy: 0.6638\n",
      "--- Starting trial: run-1\n",
      "{'num_freezed': 3, 'optimizer': 'adam'}\n",
      "100/100 [==============================] - 318s 3s/step - loss: 0.9082 - accuracy: 0.6190\n",
      "41/41 [==============================] - 116s 3s/step - loss: 0.8601 - accuracy: 0.6638\n",
      "--- Starting trial: run-2\n",
      "{'num_freezed': 5, 'optimizer': 'RMSprop'}\n",
      "100/100 [==============================] - 284s 3s/step - loss: 1.0030 - accuracy: 0.6175\n",
      "41/41 [==============================] - 96s 2s/step - loss: 1.0841 - accuracy: 0.2461\n",
      "--- Starting trial: run-3\n",
      "{'num_freezed': 5, 'optimizer': 'adam'}\n",
      "100/100 [==============================] - 287s 3s/step - loss: 0.9088 - accuracy: 0.6406\n",
      "41/41 [==============================] - 102s 2s/step - loss: 0.9620 - accuracy: 0.6638\n"
     ]
    }
   ],
   "source": [
    "session_num = 0\n",
    "\n",
    "for num_freezed in HP_NUM_FREEZED.domain.values:\n",
    "  for optimizer in HP_OPTIMIZER.domain.values:\n",
    "    hparams = {\n",
    "        HP_NUM_FREEZED: num_freezed,\n",
    "        HP_OPTIMIZER: optimizer,\n",
    "    }\n",
    "    run_name = \"run-%d\" % session_num\n",
    "    print('--- Starting trial: %s' % run_name)\n",
    "    print({h.name: hparams[h] for h in hparams})\n",
    "    run('logs/hparam_tuning/' + run_name, hparams)\n",
    "    session_num += 1"
   ]
  },
  {
   "cell_type": "markdown",
   "metadata": {},
   "source": [
    "## Launch tensorboard"
   ]
  },
  {
   "cell_type": "code",
   "execution_count": 12,
   "metadata": {},
   "outputs": [
    {
     "name": "stdout",
     "output_type": "stream",
     "text": [
      "The tensorboard extension is already loaded. To reload it, use:\n",
      "  %reload_ext tensorboard\n"
     ]
    }
   ],
   "source": [
    "%load_ext tensorboard"
   ]
  }
 ],
 "metadata": {
  "interpreter": {
   "hash": "735849d647085e990bbcb227c7433a7d9eadeb95323045ccb18d3b01b6af7750"
  },
  "kernelspec": {
   "display_name": "Python 3.10.3 ('x-ray')",
   "language": "python",
   "name": "python3"
  },
  "language_info": {
   "codemirror_mode": {
    "name": "ipython",
    "version": 3
   },
   "file_extension": ".py",
   "mimetype": "text/x-python",
   "name": "python",
   "nbconvert_exporter": "python",
   "pygments_lexer": "ipython3",
   "version": "3.9.12"
  },
  "orig_nbformat": 4
 },
 "nbformat": 4,
 "nbformat_minor": 2
}
